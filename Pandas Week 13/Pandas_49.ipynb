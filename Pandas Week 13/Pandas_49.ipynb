{
 "cells": [
  {
   "cell_type": "markdown",
   "id": "b711726a-adcd-4efe-9c4e-164d42f012d2",
   "metadata": {},
   "source": [
    "49: Seleksi kolom dengan f-string"
   ]
  },
  {
   "cell_type": "markdown",
   "id": "d09e77e2-8865-4910-9275-18de34e9ff85",
   "metadata": {},
   "source": [
    "2273009  _ Bryan Nicholas"
   ]
  },
  {
   "cell_type": "markdown",
   "id": "096465af-6b52-45a8-9b2f-3abdbae876fe",
   "metadata": {},
   "source": [
    "Import Modules"
   ]
  },
  {
   "cell_type": "code",
   "execution_count": 1,
   "id": "c5c604f6-16bc-47ce-abbd-1a24396a6a48",
   "metadata": {},
   "outputs": [
    {
     "name": "stdout",
     "output_type": "stream",
     "text": [
      "2.1.3\n"
     ]
    }
   ],
   "source": [
    "import pandas as pd\n",
    "\n",
    "print(pd.__version__)"
   ]
  },
  {
   "cell_type": "markdown",
   "id": "fe27f473-162b-4d8e-85b5-9eb783f5b884",
   "metadata": {},
   "source": [
    "Persiapan Data Frame"
   ]
  },
  {
   "cell_type": "code",
   "execution_count": null,
   "id": "b9377ffa-1109-438d-a642-fefcfbd8137e",
   "metadata": {},
   "outputs": [],
   "source": [
    "df = pd.read_csv('./data/Iris.csv')\n",
    "df.head()"
   ]
  },
  {
   "cell_type": "markdown",
   "id": "d05e6d4a-fa22-4ad9-90b4-88d297ef4782",
   "metadata": {},
   "source": [
    "Seleksi kolom dengan f-string"
   ]
  },
  {
   "cell_type": "code",
   "execution_count": null,
   "id": "126e2c3b-e823-4bc0-991f-6847f45a88aa",
   "metadata": {},
   "outputs": [],
   "source": [
    "df['SepalWidthCm'].to_frame().head()"
   ]
  },
  {
   "cell_type": "code",
   "execution_count": null,
   "id": "6b42f483-db25-404b-bd5c-fc6a5fbf682d",
   "metadata": {},
   "outputs": [],
   "source": [
    "part = 'Sepal'\n",
    "\n",
    "df[f'{part}WidthCm'].to_frame().head()"
   ]
  },
  {
   "cell_type": "code",
   "execution_count": null,
   "id": "ed64e807-3ad1-41ae-8688-4e8f87905173",
   "metadata": {},
   "outputs": [],
   "source": [
    "df[['PetalWidthCm', 'PetalLengthCm']].head()"
   ]
  },
  {
   "cell_type": "code",
   "execution_count": null,
   "id": "e9cfa954-f86e-41c2-979c-419c30e1feaf",
   "metadata": {},
   "outputs": [],
   "source": [
    "part = 'Petal'\n",
    "\n",
    "df[[f'{part}WidthCm', f'{part}LengthCm']].head()"
   ]
  }
 ],
 "metadata": {
  "kernelspec": {
   "display_name": "Python 3 (ipykernel)",
   "language": "python",
   "name": "python3"
  },
  "language_info": {
   "codemirror_mode": {
    "name": "ipython",
    "version": 3
   },
   "file_extension": ".py",
   "mimetype": "text/x-python",
   "name": "python",
   "nbconvert_exporter": "python",
   "pygments_lexer": "ipython3",
   "version": "3.12.0"
  }
 },
 "nbformat": 4,
 "nbformat_minor": 5
}
