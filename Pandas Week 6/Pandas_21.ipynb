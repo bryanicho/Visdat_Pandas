{
 "cells": [
  {
   "cell_type": "markdown",
   "id": "6ac8d8c8-0855-4185-b350-7642fdaa5108",
   "metadata": {},
   "source": [
    "#21: Melakukan agregasi menggunakan agg()"
   ]
  },
  {
   "cell_type": "markdown",
   "id": "13b1492f-c5c9-49b6-9556-6b0e56db936f",
   "metadata": {},
   "source": [
    "Bryan Nicholas - 2273009"
   ]
  },
  {
   "cell_type": "markdown",
   "id": "83c5e71b-fe65-4db7-ae73-b688b7caebbc",
   "metadata": {},
   "source": [
    "Import Modules"
   ]
  },
  {
   "cell_type": "code",
   "execution_count": 1,
   "id": "f676d3f3-b6f9-4429-bf58-3852c73bb4f1",
   "metadata": {},
   "outputs": [
    {
     "name": "stdout",
     "output_type": "stream",
     "text": [
      "2.1.3\n"
     ]
    }
   ],
   "source": [
    "import pandas as pd\n",
    "\n",
    "print(pd.__version__)"
   ]
  },
  {
   "cell_type": "markdown",
   "id": "71b0e3ad-79f8-40a1-827f-8a4e994b7ba1",
   "metadata": {},
   "source": [
    "Persiapan Data Frame"
   ]
  },
  {
   "cell_type": "markdown",
   "id": "65ee3cc7-127d-4139-a382-091b34e1999e",
   "metadata": {},
   "source": [
    "df = pd.read_csv('./data/Iris.csv')\n",
    "df"
   ]
  },
  {
   "cell_type": "markdown",
   "id": "7b4cc3e2-34c6-43c1-a70e-0ef2d87d59c2",
   "metadata": {},
   "source": [
    "Mengenal groupby() dan fungsi agregasi"
   ]
  },
  {
   "cell_type": "code",
   "execution_count": null,
   "id": "785e8ebe-3a59-43a9-b3de-a70dcf34ed71",
   "metadata": {},
   "outputs": [],
   "source": [
    "df.groupby('Species')['PetalLengthCm'].count().to_frame()"
   ]
  },
  {
   "cell_type": "code",
   "execution_count": null,
   "id": "7d01b1bb-fed5-4efc-9266-df0322ebe8f6",
   "metadata": {},
   "outputs": [],
   "source": [
    "df.groupby('Species')['PetalLengthCm'].mean().to_frame()"
   ]
  },
  {
   "cell_type": "markdown",
   "id": "4a141bfd-0bff-41ef-8b69-95df5b1f5d46",
   "metadata": {},
   "source": [
    "Agregasi dengan agg()"
   ]
  },
  {
   "cell_type": "code",
   "execution_count": null,
   "id": "20be0416-8c69-4ae6-8dcd-bfce30528c8b",
   "metadata": {},
   "outputs": [],
   "source": [
    "df.groupby('Species')['PetalLengthCm'].agg(['count', 'mean', 'median'])"
   ]
  },
  {
   "cell_type": "markdown",
   "id": "2b9c8bb0-6e7b-486e-a113-37b1d548619a",
   "metadata": {},
   "source": [
    "Agregasi dengan describe()"
   ]
  },
  {
   "cell_type": "code",
   "execution_count": null,
   "id": "ed679185-d1fd-448d-ba31-a3ab8b6e2d63",
   "metadata": {},
   "outputs": [],
   "source": [
    "df.groupby('Species')['PetalLengthCm'].describe()"
   ]
  }
 ],
 "metadata": {
  "kernelspec": {
   "display_name": "Python 3 (ipykernel)",
   "language": "python",
   "name": "python3"
  },
  "language_info": {
   "codemirror_mode": {
    "name": "ipython",
    "version": 3
   },
   "file_extension": ".py",
   "mimetype": "text/x-python",
   "name": "python",
   "nbconvert_exporter": "python",
   "pygments_lexer": "ipython3",
   "version": "3.12.0"
  }
 },
 "nbformat": 4,
 "nbformat_minor": 5
}
