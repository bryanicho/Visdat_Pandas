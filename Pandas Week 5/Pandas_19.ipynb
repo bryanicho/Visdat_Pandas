{
 "cells": [
  {
   "cell_type": "markdown",
   "id": "708b71f2-3fc1-429a-8f47-db137e1d86e2",
   "metadata": {},
   "source": [
    "#19: Formatting tampilan Data Frame"
   ]
  },
  {
   "cell_type": "markdown",
   "id": "de1ad758-ba83-4bbd-ad1d-7a33347be0dd",
   "metadata": {},
   "source": [
    "Bryan Nicholas - 2273009"
   ]
  },
  {
   "cell_type": "markdown",
   "id": "678c5bef-bd50-444c-9f0d-50f3da3e29c0",
   "metadata": {},
   "source": [
    "Import Modules"
   ]
  },
  {
   "cell_type": "code",
   "execution_count": 1,
   "id": "c694e2d7-3c33-4f30-8aa5-e2aa372ec8ca",
   "metadata": {},
   "outputs": [
    {
     "name": "stdout",
     "output_type": "stream",
     "text": [
      "2.1.3\n",
      "1.26.2\n"
     ]
    }
   ],
   "source": [
    "import pandas as pd\n",
    "import numpy as np\n",
    "\n",
    "print(pd.__version__)\n",
    "print(np.__version__)"
   ]
  },
  {
   "cell_type": "markdown",
   "id": "ca6f8d80-174f-4039-843d-55bbfbe6e024",
   "metadata": {},
   "source": [
    "Persiapan Data Frame"
   ]
  },
  {
   "cell_type": "code",
   "execution_count": 2,
   "id": "9933c4da-7a3d-49ab-95bf-dfd977226a93",
   "metadata": {},
   "outputs": [
    {
     "data": {
      "text/html": [
       "<div>\n",
       "<style scoped>\n",
       "    .dataframe tbody tr th:only-of-type {\n",
       "        vertical-align: middle;\n",
       "    }\n",
       "\n",
       "    .dataframe tbody tr th {\n",
       "        vertical-align: top;\n",
       "    }\n",
       "\n",
       "    .dataframe thead th {\n",
       "        text-align: right;\n",
       "    }\n",
       "</style>\n",
       "<table border=\"1\" class=\"dataframe\">\n",
       "  <thead>\n",
       "    <tr style=\"text-align: right;\">\n",
       "      <th></th>\n",
       "      <th>omset</th>\n",
       "      <th>operasional</th>\n",
       "    </tr>\n",
       "  </thead>\n",
       "  <tbody>\n",
       "    <tr>\n",
       "      <th>0</th>\n",
       "      <td>14</td>\n",
       "      <td>6</td>\n",
       "    </tr>\n",
       "    <tr>\n",
       "      <th>1</th>\n",
       "      <td>12</td>\n",
       "      <td>2</td>\n",
       "    </tr>\n",
       "    <tr>\n",
       "      <th>2</th>\n",
       "      <td>10</td>\n",
       "      <td>7</td>\n",
       "    </tr>\n",
       "    <tr>\n",
       "      <th>3</th>\n",
       "      <td>11</td>\n",
       "      <td>10</td>\n",
       "    </tr>\n",
       "    <tr>\n",
       "      <th>4</th>\n",
       "      <td>4</td>\n",
       "      <td>3</td>\n",
       "    </tr>\n",
       "  </tbody>\n",
       "</table>\n",
       "</div>"
      ],
      "text/plain": [
       "   omset  operasional\n",
       "0     14            6\n",
       "1     12            2\n",
       "2     10            7\n",
       "3     11           10\n",
       "4      4            3"
      ]
     },
     "execution_count": 2,
     "metadata": {},
     "output_type": "execute_result"
    }
   ],
   "source": [
    "n_rows = 5\n",
    "n_cols = 2\n",
    "cols = ['omset', 'operasional']\n",
    "\n",
    "df = pd.DataFrame(np.random.randint(1, 20, size=(n_rows, n_cols)), \n",
    "                  columns=cols)\n",
    "df"
   ]
  },
  {
   "cell_type": "code",
   "execution_count": 3,
   "id": "f1d3eb78-a95c-4642-9ccd-870a59b7af62",
   "metadata": {},
   "outputs": [
    {
     "data": {
      "text/html": [
       "<div>\n",
       "<style scoped>\n",
       "    .dataframe tbody tr th:only-of-type {\n",
       "        vertical-align: middle;\n",
       "    }\n",
       "\n",
       "    .dataframe tbody tr th {\n",
       "        vertical-align: top;\n",
       "    }\n",
       "\n",
       "    .dataframe thead th {\n",
       "        text-align: right;\n",
       "    }\n",
       "</style>\n",
       "<table border=\"1\" class=\"dataframe\">\n",
       "  <thead>\n",
       "    <tr style=\"text-align: right;\">\n",
       "      <th></th>\n",
       "      <th>omset</th>\n",
       "      <th>operasional</th>\n",
       "    </tr>\n",
       "  </thead>\n",
       "  <tbody>\n",
       "    <tr>\n",
       "      <th>0</th>\n",
       "      <td>1400000</td>\n",
       "      <td>60000</td>\n",
       "    </tr>\n",
       "    <tr>\n",
       "      <th>1</th>\n",
       "      <td>1200000</td>\n",
       "      <td>20000</td>\n",
       "    </tr>\n",
       "    <tr>\n",
       "      <th>2</th>\n",
       "      <td>1000000</td>\n",
       "      <td>70000</td>\n",
       "    </tr>\n",
       "    <tr>\n",
       "      <th>3</th>\n",
       "      <td>1100000</td>\n",
       "      <td>100000</td>\n",
       "    </tr>\n",
       "    <tr>\n",
       "      <th>4</th>\n",
       "      <td>400000</td>\n",
       "      <td>30000</td>\n",
       "    </tr>\n",
       "  </tbody>\n",
       "</table>\n",
       "</div>"
      ],
      "text/plain": [
       "     omset  operasional\n",
       "0  1400000        60000\n",
       "1  1200000        20000\n",
       "2  1000000        70000\n",
       "3  1100000       100000\n",
       "4   400000        30000"
      ]
     },
     "execution_count": 3,
     "metadata": {},
     "output_type": "execute_result"
    }
   ],
   "source": [
    "df['omset'] = df['omset'] * 100_000\n",
    "df['operasional'] = df['operasional'] * 10_000\n",
    "df"
   ]
  },
  {
   "cell_type": "code",
   "execution_count": 4,
   "id": "21f13e29-3645-4694-adfa-45b34efdd4e5",
   "metadata": {},
   "outputs": [
    {
     "ename": "AttributeError",
     "evalue": "module 'pandas.util' has no attribute 'testing'",
     "output_type": "error",
     "traceback": [
      "\u001b[1;31m---------------------------------------------------------------------------\u001b[0m",
      "\u001b[1;31mAttributeError\u001b[0m                            Traceback (most recent call last)",
      "Cell \u001b[1;32mIn[4], line 1\u001b[0m\n\u001b[1;32m----> 1\u001b[0m df\u001b[38;5;241m.\u001b[39mindex \u001b[38;5;241m=\u001b[39m \u001b[43mpd\u001b[49m\u001b[38;5;241;43m.\u001b[39;49m\u001b[43mutil\u001b[49m\u001b[38;5;241;43m.\u001b[39;49m\u001b[43mtesting\u001b[49m\u001b[38;5;241m.\u001b[39mmakeDateIndex(n_rows, freq\u001b[38;5;241m=\u001b[39m\u001b[38;5;124m'\u001b[39m\u001b[38;5;124mD\u001b[39m\u001b[38;5;124m'\u001b[39m)\n\u001b[0;32m      2\u001b[0m df \u001b[38;5;241m=\u001b[39m df\u001b[38;5;241m.\u001b[39mreset_index()\n\u001b[0;32m      3\u001b[0m df \u001b[38;5;241m=\u001b[39m df\u001b[38;5;241m.\u001b[39mrename(columns\u001b[38;5;241m=\u001b[39m{\u001b[38;5;124m'\u001b[39m\u001b[38;5;124mindex\u001b[39m\u001b[38;5;124m'\u001b[39m:\u001b[38;5;124m'\u001b[39m\u001b[38;5;124mtanggal\u001b[39m\u001b[38;5;124m'\u001b[39m})\n",
      "File \u001b[1;32m~\\AppData\\Local\\Programs\\Python\\Python312\\Lib\\site-packages\\pandas\\util\\__init__.py:25\u001b[0m, in \u001b[0;36m__getattr__\u001b[1;34m(key)\u001b[0m\n\u001b[0;32m     21\u001b[0m     \u001b[38;5;28;01mfrom\u001b[39;00m \u001b[38;5;21;01mpandas\u001b[39;00m\u001b[38;5;21;01m.\u001b[39;00m\u001b[38;5;21;01mutil\u001b[39;00m\u001b[38;5;21;01m.\u001b[39;00m\u001b[38;5;21;01m_decorators\u001b[39;00m \u001b[38;5;28;01mimport\u001b[39;00m cache_readonly\n\u001b[0;32m     23\u001b[0m     \u001b[38;5;28;01mreturn\u001b[39;00m cache_readonly\n\u001b[1;32m---> 25\u001b[0m \u001b[38;5;28;01mraise\u001b[39;00m \u001b[38;5;167;01mAttributeError\u001b[39;00m(\u001b[38;5;124mf\u001b[39m\u001b[38;5;124m\"\u001b[39m\u001b[38;5;124mmodule \u001b[39m\u001b[38;5;124m'\u001b[39m\u001b[38;5;124mpandas.util\u001b[39m\u001b[38;5;124m'\u001b[39m\u001b[38;5;124m has no attribute \u001b[39m\u001b[38;5;124m'\u001b[39m\u001b[38;5;132;01m{\u001b[39;00mkey\u001b[38;5;132;01m}\u001b[39;00m\u001b[38;5;124m'\u001b[39m\u001b[38;5;124m\"\u001b[39m)\n",
      "\u001b[1;31mAttributeError\u001b[0m: module 'pandas.util' has no attribute 'testing'"
     ]
    }
   ],
   "source": [
    "df.index = pd.util.testing.makeDateIndex(n_rows, freq='D')\n",
    "df = df.reset_index()\n",
    "df = df.rename(columns={'index':'tanggal'})\n",
    "df"
   ]
  },
  {
   "cell_type": "markdown",
   "id": "c5f9f1d9-a1fd-4b69-828e-c8f0dbeaa676",
   "metadata": {},
   "source": [
    "Melakukan formatting tampilan Data Frame"
   ]
  },
  {
   "cell_type": "code",
   "execution_count": 5,
   "id": "76fab430-c4c9-47af-a85d-94ab61cb3083",
   "metadata": {},
   "outputs": [
    {
     "data": {
      "text/html": [
       "<style type=\"text/css\">\n",
       "</style>\n",
       "<table id=\"T_c7a19\">\n",
       "  <thead>\n",
       "    <tr>\n",
       "      <th class=\"blank level0\" >&nbsp;</th>\n",
       "      <th id=\"T_c7a19_level0_col0\" class=\"col_heading level0 col0\" >omset</th>\n",
       "      <th id=\"T_c7a19_level0_col1\" class=\"col_heading level0 col1\" >operasional</th>\n",
       "    </tr>\n",
       "  </thead>\n",
       "  <tbody>\n",
       "    <tr>\n",
       "      <th id=\"T_c7a19_level0_row0\" class=\"row_heading level0 row0\" >0</th>\n",
       "      <td id=\"T_c7a19_row0_col0\" class=\"data row0 col0\" >Rp 1400000.00</td>\n",
       "      <td id=\"T_c7a19_row0_col1\" class=\"data row0 col1\" >Rp 60000.00</td>\n",
       "    </tr>\n",
       "    <tr>\n",
       "      <th id=\"T_c7a19_level0_row1\" class=\"row_heading level0 row1\" >1</th>\n",
       "      <td id=\"T_c7a19_row1_col0\" class=\"data row1 col0\" >Rp 1200000.00</td>\n",
       "      <td id=\"T_c7a19_row1_col1\" class=\"data row1 col1\" >Rp 20000.00</td>\n",
       "    </tr>\n",
       "    <tr>\n",
       "      <th id=\"T_c7a19_level0_row2\" class=\"row_heading level0 row2\" >2</th>\n",
       "      <td id=\"T_c7a19_row2_col0\" class=\"data row2 col0\" >Rp 1000000.00</td>\n",
       "      <td id=\"T_c7a19_row2_col1\" class=\"data row2 col1\" >Rp 70000.00</td>\n",
       "    </tr>\n",
       "    <tr>\n",
       "      <th id=\"T_c7a19_level0_row3\" class=\"row_heading level0 row3\" >3</th>\n",
       "      <td id=\"T_c7a19_row3_col0\" class=\"data row3 col0\" >Rp 1100000.00</td>\n",
       "      <td id=\"T_c7a19_row3_col1\" class=\"data row3 col1\" >Rp 100000.00</td>\n",
       "    </tr>\n",
       "    <tr>\n",
       "      <th id=\"T_c7a19_level0_row4\" class=\"row_heading level0 row4\" >4</th>\n",
       "      <td id=\"T_c7a19_row4_col0\" class=\"data row4 col0\" >Rp 400000.00</td>\n",
       "      <td id=\"T_c7a19_row4_col1\" class=\"data row4 col1\" >Rp 30000.00</td>\n",
       "    </tr>\n",
       "  </tbody>\n",
       "</table>\n"
      ],
      "text/plain": [
       "<pandas.io.formats.style.Styler at 0x217eb70aae0>"
      ]
     },
     "execution_count": 5,
     "metadata": {},
     "output_type": "execute_result"
    }
   ],
   "source": [
    "formatku = {'tanggal':'{:%d/%m/%y}', \n",
    "            'operasional':'Rp {:.2f}',\n",
    "            'omset':'Rp {:.2f}'}\n",
    "\n",
    "laporan = df.style.format(formatku)\n",
    "laporan"
   ]
  },
  {
   "cell_type": "code",
   "execution_count": 6,
   "id": "687299cf-d755-4513-ac2c-02c8382a55e5",
   "metadata": {},
   "outputs": [
    {
     "data": {
      "text/plain": [
       "pandas.io.formats.style.Styler"
      ]
     },
     "execution_count": 6,
     "metadata": {},
     "output_type": "execute_result"
    }
   ],
   "source": [
    "type(laporan)"
   ]
  },
  {
   "cell_type": "code",
   "execution_count": 7,
   "id": "2a7150ef-fd74-4bf8-b917-00e71de6f09a",
   "metadata": {},
   "outputs": [
    {
     "ename": "AttributeError",
     "evalue": "'Styler' object has no attribute 'hide_index'",
     "output_type": "error",
     "traceback": [
      "\u001b[1;31m---------------------------------------------------------------------------\u001b[0m",
      "\u001b[1;31mAttributeError\u001b[0m                            Traceback (most recent call last)",
      "Cell \u001b[1;32mIn[7], line 1\u001b[0m\n\u001b[1;32m----> 1\u001b[0m \u001b[43mlaporan\u001b[49m\u001b[38;5;241;43m.\u001b[39;49m\u001b[43mhide_index\u001b[49m()\n",
      "\u001b[1;31mAttributeError\u001b[0m: 'Styler' object has no attribute 'hide_index'"
     ]
    }
   ],
   "source": [
    "laporan.hide_index()"
   ]
  },
  {
   "cell_type": "code",
   "execution_count": 8,
   "id": "f288cd14-27cd-4e57-8615-04522cb24641",
   "metadata": {},
   "outputs": [
    {
     "data": {
      "text/html": [
       "<style type=\"text/css\">\n",
       "</style>\n",
       "<table id=\"T_c7a19\">\n",
       "  <caption>Data Omset dan Operasional</caption>\n",
       "  <thead>\n",
       "    <tr>\n",
       "      <th class=\"blank level0\" >&nbsp;</th>\n",
       "      <th id=\"T_c7a19_level0_col0\" class=\"col_heading level0 col0\" >omset</th>\n",
       "      <th id=\"T_c7a19_level0_col1\" class=\"col_heading level0 col1\" >operasional</th>\n",
       "    </tr>\n",
       "  </thead>\n",
       "  <tbody>\n",
       "    <tr>\n",
       "      <th id=\"T_c7a19_level0_row0\" class=\"row_heading level0 row0\" >0</th>\n",
       "      <td id=\"T_c7a19_row0_col0\" class=\"data row0 col0\" >Rp 1400000.00</td>\n",
       "      <td id=\"T_c7a19_row0_col1\" class=\"data row0 col1\" >Rp 60000.00</td>\n",
       "    </tr>\n",
       "    <tr>\n",
       "      <th id=\"T_c7a19_level0_row1\" class=\"row_heading level0 row1\" >1</th>\n",
       "      <td id=\"T_c7a19_row1_col0\" class=\"data row1 col0\" >Rp 1200000.00</td>\n",
       "      <td id=\"T_c7a19_row1_col1\" class=\"data row1 col1\" >Rp 20000.00</td>\n",
       "    </tr>\n",
       "    <tr>\n",
       "      <th id=\"T_c7a19_level0_row2\" class=\"row_heading level0 row2\" >2</th>\n",
       "      <td id=\"T_c7a19_row2_col0\" class=\"data row2 col0\" >Rp 1000000.00</td>\n",
       "      <td id=\"T_c7a19_row2_col1\" class=\"data row2 col1\" >Rp 70000.00</td>\n",
       "    </tr>\n",
       "    <tr>\n",
       "      <th id=\"T_c7a19_level0_row3\" class=\"row_heading level0 row3\" >3</th>\n",
       "      <td id=\"T_c7a19_row3_col0\" class=\"data row3 col0\" >Rp 1100000.00</td>\n",
       "      <td id=\"T_c7a19_row3_col1\" class=\"data row3 col1\" >Rp 100000.00</td>\n",
       "    </tr>\n",
       "    <tr>\n",
       "      <th id=\"T_c7a19_level0_row4\" class=\"row_heading level0 row4\" >4</th>\n",
       "      <td id=\"T_c7a19_row4_col0\" class=\"data row4 col0\" >Rp 400000.00</td>\n",
       "      <td id=\"T_c7a19_row4_col1\" class=\"data row4 col1\" >Rp 30000.00</td>\n",
       "    </tr>\n",
       "  </tbody>\n",
       "</table>\n"
      ],
      "text/plain": [
       "<pandas.io.formats.style.Styler at 0x217eb70aae0>"
      ]
     },
     "execution_count": 8,
     "metadata": {},
     "output_type": "execute_result"
    }
   ],
   "source": [
    "laporan.set_caption('Data Omset dan Operasional')"
   ]
  },
  {
   "cell_type": "code",
   "execution_count": 9,
   "id": "8fc1e5bc-b0a4-425a-8740-87e3a0afe545",
   "metadata": {},
   "outputs": [
    {
     "data": {
      "text/html": [
       "<style type=\"text/css\">\n",
       "#T_c7a19_row0_col0 {\n",
       "  background-color: lightgreen;\n",
       "}\n",
       "#T_c7a19_row1_col1 {\n",
       "  background-color: lightblue;\n",
       "}\n",
       "#T_c7a19_row3_col1 {\n",
       "  background-color: grey;\n",
       "}\n",
       "#T_c7a19_row4_col0 {\n",
       "  background-color: pink;\n",
       "}\n",
       "</style>\n",
       "<table id=\"T_c7a19\">\n",
       "  <caption>Data Omset dan Operasional</caption>\n",
       "  <thead>\n",
       "    <tr>\n",
       "      <th class=\"blank level0\" >&nbsp;</th>\n",
       "      <th id=\"T_c7a19_level0_col0\" class=\"col_heading level0 col0\" >omset</th>\n",
       "      <th id=\"T_c7a19_level0_col1\" class=\"col_heading level0 col1\" >operasional</th>\n",
       "    </tr>\n",
       "  </thead>\n",
       "  <tbody>\n",
       "    <tr>\n",
       "      <th id=\"T_c7a19_level0_row0\" class=\"row_heading level0 row0\" >0</th>\n",
       "      <td id=\"T_c7a19_row0_col0\" class=\"data row0 col0\" >Rp 1400000.00</td>\n",
       "      <td id=\"T_c7a19_row0_col1\" class=\"data row0 col1\" >Rp 60000.00</td>\n",
       "    </tr>\n",
       "    <tr>\n",
       "      <th id=\"T_c7a19_level0_row1\" class=\"row_heading level0 row1\" >1</th>\n",
       "      <td id=\"T_c7a19_row1_col0\" class=\"data row1 col0\" >Rp 1200000.00</td>\n",
       "      <td id=\"T_c7a19_row1_col1\" class=\"data row1 col1\" >Rp 20000.00</td>\n",
       "    </tr>\n",
       "    <tr>\n",
       "      <th id=\"T_c7a19_level0_row2\" class=\"row_heading level0 row2\" >2</th>\n",
       "      <td id=\"T_c7a19_row2_col0\" class=\"data row2 col0\" >Rp 1000000.00</td>\n",
       "      <td id=\"T_c7a19_row2_col1\" class=\"data row2 col1\" >Rp 70000.00</td>\n",
       "    </tr>\n",
       "    <tr>\n",
       "      <th id=\"T_c7a19_level0_row3\" class=\"row_heading level0 row3\" >3</th>\n",
       "      <td id=\"T_c7a19_row3_col0\" class=\"data row3 col0\" >Rp 1100000.00</td>\n",
       "      <td id=\"T_c7a19_row3_col1\" class=\"data row3 col1\" >Rp 100000.00</td>\n",
       "    </tr>\n",
       "    <tr>\n",
       "      <th id=\"T_c7a19_level0_row4\" class=\"row_heading level0 row4\" >4</th>\n",
       "      <td id=\"T_c7a19_row4_col0\" class=\"data row4 col0\" >Rp 400000.00</td>\n",
       "      <td id=\"T_c7a19_row4_col1\" class=\"data row4 col1\" >Rp 30000.00</td>\n",
       "    </tr>\n",
       "  </tbody>\n",
       "</table>\n"
      ],
      "text/plain": [
       "<pandas.io.formats.style.Styler at 0x217eb70aae0>"
      ]
     },
     "execution_count": 9,
     "metadata": {},
     "output_type": "execute_result"
    }
   ],
   "source": [
    "laporan.highlight_min('omset', color='pink')\n",
    "laporan.highlight_max('omset', color='lightgreen')\n",
    "\n",
    "laporan.highlight_min('operasional', color='lightblue')\n",
    "laporan.highlight_max('operasional', color='grey')"
   ]
  },
  {
   "cell_type": "code",
   "execution_count": null,
   "id": "e3817889-4342-4689-ba66-5fb06a57066d",
   "metadata": {},
   "outputs": [],
   "source": []
  }
 ],
 "metadata": {
  "kernelspec": {
   "display_name": "Python 3 (ipykernel)",
   "language": "python",
   "name": "python3"
  },
  "language_info": {
   "codemirror_mode": {
    "name": "ipython",
    "version": 3
   },
   "file_extension": ".py",
   "mimetype": "text/x-python",
   "name": "python",
   "nbconvert_exporter": "python",
   "pygments_lexer": "ipython3",
   "version": "3.12.0"
  }
 },
 "nbformat": 4,
 "nbformat_minor": 5
}
