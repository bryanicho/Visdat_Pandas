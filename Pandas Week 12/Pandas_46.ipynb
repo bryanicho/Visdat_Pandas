{
 "cells": [
  {
   "cell_type": "markdown",
   "id": "a5b502a7-90b1-4315-bd1f-aa2e052ad98a",
   "metadata": {},
   "source": [
    "46: Seleksi weekdays dan weekends pada data deret waktu (time series)"
   ]
  },
  {
   "cell_type": "markdown",
   "id": "560a7faf-07a7-4590-b599-749c8a39bac1",
   "metadata": {},
   "source": [
    "2273009 - Bryan Nicholas"
   ]
  },
  {
   "cell_type": "markdown",
   "id": "d7883f92-0f16-43a5-b64b-474c7c76a5b4",
   "metadata": {},
   "source": [
    "Import Modules"
   ]
  },
  {
   "cell_type": "code",
   "execution_count": 1,
   "id": "cb2db922-1404-40ae-a448-0654c9f52ec4",
   "metadata": {},
   "outputs": [
    {
     "name": "stdout",
     "output_type": "stream",
     "text": [
      "2.1.3\n",
      "1.26.2\n"
     ]
    }
   ],
   "source": [
    "import pandas as pd\n",
    "import numpy as np\n",
    "\n",
    "print(pd.__version__)\n",
    "print(np.__version__)"
   ]
  },
  {
   "cell_type": "markdown",
   "id": "c076fc86-3a2c-4d42-b2c0-8a803c93d38b",
   "metadata": {},
   "source": [
    "Persiapan Data Frame"
   ]
  },
  {
   "cell_type": "code",
   "execution_count": null,
   "id": "17b40ba0-0c76-498b-8c9a-6724eeb1fc75",
   "metadata": {},
   "outputs": [],
   "source": [
    "n_rows = 365\n",
    "n_cols = 2\n",
    "cols = ['col1', 'col2']\n",
    "\n",
    "df = pd.DataFrame(np.random.randint(1, 20, size=(n_rows, n_cols)), \n",
    "                  columns=cols)\n",
    "\n",
    "df.index = pd.util.testing.makeDateIndex(n_rows, freq='D')\n",
    "df"
   ]
  },
  {
   "cell_type": "markdown",
   "id": "a5126277-877d-4f05-9c7f-5d7f0a9ce0fd",
   "metadata": {},
   "source": [
    "Seleksi weekdays dan weekends"
   ]
  },
  {
   "cell_type": "code",
   "execution_count": null,
   "id": "879faa25-56a1-4d33-a8b9-7e91523ef5cd",
   "metadata": {},
   "outputs": [],
   "source": [
    "weekdays_df = df[df.index.dayofweek.isin([0, 1, 2, 3, 4])]\n",
    "weekdays_df.head(7)"
   ]
  },
  {
   "cell_type": "code",
   "execution_count": null,
   "id": "cfc0f46e-02a3-4eb1-ad7f-6911df7c4532",
   "metadata": {},
   "outputs": [],
   "source": [
    "weekends_df = df[df.index.dayofweek.isin([5, 6])]\n",
    "weekends_df.head(7)"
   ]
  }
 ],
 "metadata": {
  "kernelspec": {
   "display_name": "Python 3 (ipykernel)",
   "language": "python",
   "name": "python3"
  },
  "language_info": {
   "codemirror_mode": {
    "name": "ipython",
    "version": 3
   },
   "file_extension": ".py",
   "mimetype": "text/x-python",
   "name": "python",
   "nbconvert_exporter": "python",
   "pygments_lexer": "ipython3",
   "version": "3.12.0"
  }
 },
 "nbformat": 4,
 "nbformat_minor": 5
}
