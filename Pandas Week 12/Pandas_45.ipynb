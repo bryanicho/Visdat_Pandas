{
 "cells": [
  {
   "cell_type": "markdown",
   "id": "61b83274-a73f-4211-a5ee-a2b5ba79de98",
   "metadata": {},
   "source": [
    "45: Memadukan loc dan iloc untuk melakukan seleksi data"
   ]
  },
  {
   "cell_type": "markdown",
   "id": "82b185af-6084-413e-a12d-37bfafb8b85a",
   "metadata": {},
   "source": [
    "2273009 - Bryan Nicholas"
   ]
  },
  {
   "cell_type": "markdown",
   "id": "84e24038-e367-4153-9964-c04de7a210bf",
   "metadata": {},
   "source": [
    "Import Modules"
   ]
  },
  {
   "cell_type": "code",
   "execution_count": 1,
   "id": "8d6ae352-b7fe-4c66-8833-47381a41c45a",
   "metadata": {},
   "outputs": [
    {
     "name": "stdout",
     "output_type": "stream",
     "text": [
      "2.1.3\n"
     ]
    }
   ],
   "source": [
    "import pandas as pd\n",
    "\n",
    "print(pd.__version__)"
   ]
  },
  {
   "cell_type": "markdown",
   "id": "1da57ff2-29c0-4f12-9904-6aed028a79f5",
   "metadata": {},
   "source": [
    "Persiapan Data Frame"
   ]
  },
  {
   "cell_type": "code",
   "execution_count": null,
   "id": "954585d9-4b12-4bfa-be97-139f027934a8",
   "metadata": {},
   "outputs": [],
   "source": [
    "df = pd.read_csv('./data/titanicfull.csv')\n",
    "df.head()"
   ]
  },
  {
   "cell_type": "markdown",
   "id": "e211b957-7478-4db9-bedb-e9dec2684ee0",
   "metadata": {},
   "source": [
    "Memadukan loc dan iloc untuk melakukan seleksi data"
   ]
  },
  {
   "cell_type": "code",
   "execution_count": null,
   "id": "ec1cb07e-6c5d-4c98-85f9-1d4166b94278",
   "metadata": {},
   "outputs": [],
   "source": [
    "df.iloc[15:20, :].loc[:, 'name':'age']"
   ]
  },
  {
   "cell_type": "code",
   "execution_count": null,
   "id": "b6d058d6-5e8a-4b63-9dc7-39c76eb27465",
   "metadata": {},
   "outputs": [],
   "source": [
    "df.loc[:, 'name':'age'].iloc[15:20, :]"
   ]
  }
 ],
 "metadata": {
  "kernelspec": {
   "display_name": "Python 3 (ipykernel)",
   "language": "python",
   "name": "python3"
  },
  "language_info": {
   "codemirror_mode": {
    "name": "ipython",
    "version": 3
   },
   "file_extension": ".py",
   "mimetype": "text/x-python",
   "name": "python",
   "nbconvert_exporter": "python",
   "pygments_lexer": "ipython3",
   "version": "3.12.0"
  }
 },
 "nbformat": 4,
 "nbformat_minor": 5
}
